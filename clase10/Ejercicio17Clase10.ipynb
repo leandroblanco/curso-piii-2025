{
  "nbformat": 4,
  "nbformat_minor": 0,
  "metadata": {
    "colab": {
      "provenance": []
    },
    "kernelspec": {
      "name": "python3",
      "display_name": "Python 3"
    },
    "language_info": {
      "name": "python"
    }
  },
  "cells": [
    {
      "cell_type": "code",
      "execution_count": null,
      "metadata": {
        "colab": {
          "base_uri": "https://localhost:8080/"
        },
        "id": "Gn9GimdY4BNS",
        "outputId": "a8296cf0-2623-4d7d-a27f-94e5a4b2bf42"
      },
      "outputs": [
        {
          "output_type": "stream",
          "name": "stdout",
          "text": [
            "Mensaje: Hola\n",
            "Bits:     01001000011011110110110001100001\n",
            "Señal codificada (NRZ-L):\n",
            "-1 1 -1 -1 1 -1 -1 -1 -1 1 1 -1 1 1 1 1 -1 1 1 -1 1 1 -1 -1 -1 1 1 -1 -1 -1 -1 1\n"
          ]
        }
      ],
      "source": [
        "# Codificación NRZ para simular transmisión NRZ-L\n",
        "\n",
        "def string_to_bits(message: str) -> str:\n",
        "    \"\"\"Convierte texto a cadena de bits (8 bits por carácter).\"\"\"\n",
        "    return ''.join(format(ord(c), '08b') for c in message)\n",
        "\n",
        "def nrz_encode(bits: str, v_high=1.0, v_low=-1.0):\n",
        "    \"\"\"\n",
        "    Codifica la secuencia binaria usando NRZ-L (Level).\n",
        "    - '1' -> v_high\n",
        "    - '0' -> v_low\n",
        "    \"\"\"\n",
        "    return [v_high if b == '1' else v_low for b in bits]\n",
        "\n",
        "def transmit_signal(levels):\n",
        "    \"\"\"“Transmite” imprimiendo los niveles (solo a modo ilustrativo).\"\"\"\n",
        "    print(' '.join(f'{lvl:g}' for lvl in levels))\n",
        "\n",
        "# Ejemplo de uso\n",
        "message = \"Hola\"\n",
        "bits = string_to_bits(message)\n",
        "print(f\"Mensaje: {message}\")\n",
        "print(f\"Bits:     {bits}\")\n",
        "\n",
        "# Opción 1 (educativa, bipolar): +1 / -1\n",
        "nrz_levels = nrz_encode(bits, v_high=1.0, v_low=-1.0)\n",
        "\n",
        "# Opción 2 (TTL/CMOS): 3.3 V / 0 V  -> descomentar si querés esa visual\n",
        "# nrz_levels = nrz_encode(bits, v_high=3.3, v_low=0.0)\n",
        "\n",
        "print(\"Señal codificada (NRZ-L):\")\n",
        "transmit_signal(nrz_levels)"
      ]
    },
    {
      "cell_type": "code",
      "source": [
        "import numpy as np\n",
        "import matplotlib.pyplot as plt\n",
        "\n",
        "# ===== PAM5: niveles (5) =====\n",
        "PAM5_LEVELS = np.array([-2, -1, 0, 1, 2], dtype=float)\n",
        "\n",
        "# ===== Mapeo didáctico (2 bits -> 4 niveles; 0 queda reservado) =====\n",
        "# 00 -> -2, 01 -> -1, 10 -> +1, 11 -> +2\n",
        "ENC_MAP = {\n",
        "    (0, 0): -2.0,\n",
        "    (0, 1): -1.0,\n",
        "    (1, 0): +1.0,\n",
        "    (1, 1): +2.0,\n",
        "}\n",
        "DEC_MAP = {v: k for k, v in ENC_MAP.items()}  # inverso exacto\n",
        "\n",
        "def encode_pam5_2bits_per_symbol(bitstream):\n",
        "    \"\"\"Agrupa bits de a 2 y mapea a niveles PAM5 (usando 4 de los 5 niveles).\"\"\"\n",
        "    if len(bitstream) % 2 != 0:\n",
        "        raise ValueError(\"La longitud de bits debe ser par.\")\n",
        "    symbols = []\n",
        "    for i in range(0, len(bitstream), 2):\n",
        "        pair = (int(bitstream[i]), int(bitstream[i+1]))\n",
        "        symbols.append(ENC_MAP[pair])\n",
        "    return np.array(symbols, dtype=float)\n",
        "\n",
        "def quantize_to_pam5(x):\n",
        "    \"\"\"Cuantiza al vecino PAM5 más cercano (tolerante a ruido).\"\"\"\n",
        "    idx = np.abs(PAM5_LEVELS.reshape(-1, 1) - x.reshape(1, -1)).argmin(axis=0)\n",
        "    return PAM5_LEVELS[idx]\n",
        "\n",
        "def decode_pam5_2bits_per_symbol(symbols):\n",
        "    \"\"\"Decodifica asumiendo mapeo de 4 niveles; si aparece 0, lo marca como 'reserva'.\"\"\"\n",
        "    bits = []\n",
        "    for s in symbols:\n",
        "        s_q = PAM5_LEVELS[np.argmin(np.abs(PAM5_LEVELS - s))]  # cuantización\n",
        "        if s_q == 0.0:\n",
        "            # Nivel reservado en este esquema didáctico\n",
        "            # Podrías decidir descartarlo o mapearlo a (0,0) con una advertencia.\n",
        "            raise ValueError(\"Apareció nivel 0 (reservado) en esta codificación simplificada.\")\n",
        "        b0, b1 = DEC_MAP[s_q]\n",
        "        bits.extend([b0, b1])\n",
        "    return np.array(bits, dtype=int)\n",
        "\n",
        "# ===== Reparto 4D (ilustrativo) =====\n",
        "def split_to_4d_round_robin(symbols):\n",
        "    \"\"\"Distribuye símbolos a 4 pares A,B,C,D en round-robin (ilustración 4D).\"\"\"\n",
        "    A = symbols[0::4]\n",
        "    B = symbols[1::4]\n",
        "    C = symbols[2::4]\n",
        "    D = symbols[3::4]\n",
        "    return A, B, C, D\n",
        "\n",
        "def merge_from_4d_round_robin(A, B, C, D):\n",
        "    \"\"\"Reconstruye la secuencia 1D desde 4 streams round-robin.\"\"\"\n",
        "    L = max(len(A), len(B), len(C), len(D))\n",
        "    out = []\n",
        "    for i in range(L):\n",
        "        if i < len(A): out.append(A[i])\n",
        "        if i < len(B): out.append(B[i])\n",
        "        if i < len(C): out.append(C[i])\n",
        "        if i < len(D): out.append(D[i])\n",
        "    return np.array(out, dtype=float)\n",
        "\n",
        "# ===== Ejemplo =====\n",
        "original_bits = np.array([1,0, 1,1, 0,0, 1,0,  1,0, 0,1, 1,1, 0,0])  # 16 bits (8 símbolos)\n",
        "symbols_1d   = encode_pam5_2bits_per_symbol(original_bits)\n",
        "\n",
        "# Simular “ruido” leve en el dominio 1D (solo para mostrar la cuantización)\n",
        "noisy = symbols_1d + 0.1*np.random.randn(*symbols_1d.shape)\n",
        "\n",
        "# Cuantización y decodificación\n",
        "symbols_1d_q = quantize_to_pam5(noisy)\n",
        "decoded_bits = decode_pam5_2bits_per_symbol(symbols_1d_q)\n",
        "\n",
        "print(\"Bits originales:      \", original_bits)\n",
        "print(\"Símbolos PAM5 (1D):   \", symbols_1d)\n",
        "print(\"Símbolos + ruido:     \", noisy.round(2))\n",
        "print(\"Cuantizados a PAM5:   \", symbols_1d_q)\n",
        "print(\"Bits decodificados:   \", decoded_bits)\n",
        "\n",
        "# Ilustración 4D (reparto a 4 pares)\n",
        "A, B, C, D = split_to_4d_round_robin(symbols_1d)\n",
        "print(\"\\nStreams por par (4D, round-robin):\")\n",
        "print(\"Par A:\", A)\n",
        "print(\"Par B:\", B)\n",
        "print(\"Par C:\", C)\n",
        "print(\"Par D:\", D)\n",
        "\n",
        "# Gráfica simple de los símbolos 1D\n",
        "plt.figure(figsize=(6,3))\n",
        "markerline, stemlines, baseline = plt.stem(range(len(symbols_1d)), symbols_1d)\n",
        "plt.title(\"Símbolos PAM5 (1D) – mapeo didáctico 2 bits/ símbolo\")\n",
        "plt.xlabel(\"Índice de símbolo\")\n",
        "plt.ylabel(\"Amplitud\")\n",
        "plt.grid(True)\n",
        "plt.show()"
      ],
      "metadata": {
        "id": "HpZpFAEj4I7V",
        "outputId": "fa05f963-9131-4e05-bcca-3f35d969113c",
        "colab": {
          "base_uri": "https://localhost:8080/",
          "height": 525
        }
      },
      "execution_count": null,
      "outputs": [
        {
          "output_type": "stream",
          "name": "stdout",
          "text": [
            "Bits originales:       [1 0 1 1 0 0 1 0 1 0 0 1 1 1 0 0]\n",
            "Símbolos PAM5 (1D):    [ 1.  2. -2.  1.  1. -1.  2. -2.]\n",
            "Símbolos + ruido:      [ 1.09  1.96 -2.05  0.9   1.1  -1.07  1.87 -2.07]\n",
            "Cuantizados a PAM5:    [ 1.  2. -2.  1.  1. -1.  2. -2.]\n",
            "Bits decodificados:    [1 0 1 1 0 0 1 0 1 0 0 1 1 1 0 0]\n",
            "\n",
            "Streams por par (4D, round-robin):\n",
            "Par A: [1. 1.]\n",
            "Par B: [ 2. -1.]\n",
            "Par C: [-2.  2.]\n",
            "Par D: [ 1. -2.]\n"
          ]
        },
        {
          "output_type": "display_data",
          "data": {
            "text/plain": [
              "<Figure size 600x300 with 1 Axes>"
            ],
            "image/png": "[encoded data removed]"
          },
          "metadata": {}
        }
      ]
    },
    {
      "cell_type": "markdown",
      "source": [
        "#Ejercicio 17:\n",
        "1- Simular la transmisión de un mensaje entre dos computadoras.\n",
        "\n",
        "2- Elegir un protocolo de la pila TCP/IP.\n",
        "\n",
        "3- Utilizar Gigabit Ethernet sobre UTP con 4D-PAM5.\n",
        "\n",
        "4- Incluir el uso de un filtro sinc con caída cosenoidal."
      ],
      "metadata": {
        "id": "G6gh08WngOD_"
      }
    },
    {
      "cell_type": "markdown",
      "source": [
        "#Transmisor:"
      ],
      "metadata": {
        "id": "8wYyrGG6hPZH"
      }
    },
    {
      "cell_type": "code",
      "source": [
        "# tx_pam5.py\n",
        "import socket\n",
        "import numpy as np\n",
        "\n",
        "# PAM5 modulación: convierte caracteres en niveles -2 a 2\n",
        "def pam5_modulate(data):\n",
        "    return [(ord(c) % 5) - 2 for c in data]\n",
        "\n",
        "# Divide el mensaje en 4 canales\n",
        "def split_into_channels(message):\n",
        "    return [message[i::4] for i in range(4)]\n",
        "\n",
        "# Configuración del socket\n",
        "HOST = 10.0.0.209  # Reemplazar con la IP del RX\n",
        "PORT = 5000\n",
        "\n",
        "message = \"Hola Leandro, esto es una prueba de 4D-PAM5\"\n",
        "channels = split_into_channels(message)\n",
        "modulated_channels = [pam5_modulate(ch) for ch in channels]\n",
        "\n",
        "# Empaquetar los datos como string\n",
        "packet = '|'.join([','.join(map(str, ch)) for ch in modulated_channels])\n",
        "\n",
        "with socket.socket(socket.AF_INET, socket.SOCK_STREAM) as s:\n",
        "    s.connect((HOST, PORT))\n",
        "    s.sendall(packet.encode('utf-8'))\n",
        "    print(\"Mensaje enviado.\")"
      ],
      "metadata": {
        "id": "4gpCZChxgozc"
      },
      "execution_count": null,
      "outputs": []
    },
    {
      "cell_type": "markdown",
      "source": [
        "#Receptor:"
      ],
      "metadata": {
        "id": "c-4rYX4chI6z"
      }
    },
    {
      "cell_type": "code",
      "source": [
        "# rx_pam5.py\n",
        "import socket\n",
        "\n",
        "# PAM5 demodulación: convierte niveles -2 a 2 en caracteres aproximados\n",
        "def pam5_demodulate(data):\n",
        "    return ''.join([chr((int(val) + 2) % 256) for val in data])\n",
        "\n",
        "# Reconstruye el mensaje original desde los 4 canales\n",
        "def reconstruct_message(channels):\n",
        "    max_len = max(len(ch) for ch in channels)\n",
        "    message = ''\n",
        "    for i in range(max_len):\n",
        "        for ch in channels:\n",
        "            if i < len(ch):\n",
        "                message += ch[i]\n",
        "    return message\n",
        "\n",
        "HOST = '0.0.0.0'\n",
        "PORT = 5000\n",
        "\n",
        "with socket.socket(socket.AF_INET, socket.SOCK_STREAM) as s:\n",
        "    s.bind((HOST, PORT))\n",
        "    s.listen()\n",
        "    print(\"Esperando conexión...\")\n",
        "    conn, addr = s.accept()\n",
        "    with conn:\n",
        "        print(f\"Conectado por {addr}\")\n",
        "        data = conn.recv(4096).decode('utf-8')\n",
        "        raw_channels = data.split('|')\n",
        "        channels = [pam5_demodulate(ch.split(',')) for ch in raw_channels]\n",
        "        message = reconstruct_message(channels)\n",
        "        print(\"Mensaje recibido y reconstruido:\")\n",
        "        print(message)"
      ],
      "metadata": {
        "id": "UCjj4wGThx0Z"
      },
      "execution_count": null,
      "outputs": []
    }
  ]
}